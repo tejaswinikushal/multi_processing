{
 "cells": [
  {
   "cell_type": "markdown",
   "id": "786ae0f8",
   "metadata": {},
   "source": [
    "#### Q1.What is multithreading in python? hy is it used? Name the module used to handle threads in python"
   ]
  },
  {
   "cell_type": "markdown",
   "id": "eac7c5a4",
   "metadata": {},
   "source": [
    "Multithreading in Python refers to the ability of a program to execute multiple threads concurrently within a single process. A thread is a separate flow of execution that can run independently of other threads, sharing the same resources and memory space. The main purpose of multithreading is to achieve concurrent execution, enabling a program to perform multiple tasks simultaneously.\n",
    "\n",
    "#### Multithreading is used in Python for several reasons.\n",
    "\n",
    "1.Concurrency: Multithreading allows a program to make progress on multiple tasks simultaneously, improving overall performance and responsiveness. It is particularly useful for tasks that involve waiting for input/output operations, such as network requests or file operations, as the program can switch to other threads while waiting for these operations to complete.\n",
    "\n",
    "2.Parallelism:\n",
    " Although Python's Global Interpreter Lock (GIL) prevents true parallel execution of threads within the same process, multithreading can still provide performance benefits for certain types of tasks. This includes tasks that are CPU-bound and can benefit from exploiting multiple cores or for I/O-bound tasks that involve waiting for external resources.\n",
    "\n",
    "3.Improved User Experience: By utilizing multithreading, Python programs can remain responsive to user input while performing time-consuming tasks in the background. This prevents the program from becoming unresponsive or freezing during lengthy operations.\n",
    "\n",
    "The threading module is commonly used to handle threads in Python. It provides a high-level interface for creating and managing threads, allowing developers to easily work with multiple threads in their programs. The threading module provides synchronization primitives such as locks, events, and condition variables to coordinate and communicate between threads.\n"
   ]
  },
  {
   "cell_type": "markdown",
   "id": "8390cb97",
   "metadata": {},
   "source": [
    "#### Q2.why threading module used? rite the use of the following functions\n",
    "#### ( activeCount\n",
    "#### currentThread\n",
    "#### enumerate)"
   ]
  },
  {
   "cell_type": "markdown",
   "id": "b2f221da",
   "metadata": {},
   "source": [
    "The threading module in Python is used to handle threads and provides a high-level interface for creating and managing threads in a program. It offers various functions and classes to facilitate thread creation, synchronization, and communication. \n",
    "\n",
    "#### 1.activeCount(): \n",
    "This function returns the number of Thread objects currently alive. It provides the count of active threads that are still running or have not yet been terminated. It can be useful to monitor the number of active threads and determine if any threads are still running in a program.\n",
    "\n",
    "#### 2.currentThread(): \n",
    "This function returns the Thread object representing the current thread of execution. It allows you to obtain a reference to the currently executing thread, which can be useful for various purposes. For example, you can use it to access and modify attributes of the current thread or to identify the thread in logging or debugging scenarios.\n",
    "\n",
    "#### 3.enumerate(): \n",
    "This function returns a list of all Thread objects currently alive. It provides a convenient way to obtain references to all active threads in a program. Each Thread object in the list can be used to access attributes and methods related to the corresponding thread. The list includes both daemon and non-daemon threads."
   ]
  },
  {
   "cell_type": "markdown",
   "id": "7d59a870",
   "metadata": {},
   "source": [
    "#### 3. Explain the following functions\n",
    "#### ( run\n",
    "#### start\n",
    " #### join\n",
    "#### isAlive)"
   ]
  },
  {
   "cell_type": "markdown",
   "id": "b5af09db",
   "metadata": {},
   "source": [
    "1.run(): The run() function is the entry point for the thread's activity. When a thread is created, you can define its behavior by subclassing the Thread class and overriding the run() method. The run() method contains the code that will be executed in the thread. To start the thread's execution, you need to call the start() method.\n",
    "\n",
    "2.start(): The start() function is used to start the execution of a thread. It creates a new thread of execution and calls the run() method of the thread. This method sets up the necessary resources and schedules the thread to run. Once the start() method is called, the thread begins executing concurrently with other threads in the program. It's important to note that you should never call the run() method directly; instead, use start() to ensure proper thread execution.\n",
    "\n",
    "3.join(): The join() function is used to wait for the completion of a thread. When a thread is created and started, the main thread or any other thread can call the join() method on that thread object. The calling thread will then wait at that point until the thread being joined completes its execution. This is useful when you want to ensure that a certain thread has finished its task before proceeding further in the program.\n",
    "\n",
    "4.isAlive(): The isAlive() function is used to check if a thread is still running. It returns True if the thread is currently executing or has not yet finished, and False otherwise. This function allows you to determine the status of a thread and make decisions based on whether it's still active or has completed its execution."
   ]
  },
  {
   "cell_type": "markdown",
   "id": "fd665b63",
   "metadata": {},
   "source": [
    "#### Q4.write a python program to create two threads. Thread one must print the list of squares and thread two must print the list of cubes"
   ]
  },
  {
   "cell_type": "code",
   "execution_count": 1,
   "id": "71c99db5",
   "metadata": {},
   "outputs": [
    {
     "name": "stdout",
     "output_type": "stream",
     "text": [
      "Square of 1: 1\n",
      "Square of 2: 4\n",
      "Square of 3: 9\n",
      "Square of 4: 16\n",
      "Square of 5: 25\n",
      "Cube of 1: 1\n",
      "Cube of 2: 8\n",
      "Cube of 3: 27\n",
      "Cube of 4: 64\n",
      "Cube of 5: 125\n",
      "Main thread finished.\n"
     ]
    }
   ],
   "source": [
    "import threading\n",
    "\n",
    "def print_squares():\n",
    "    for i in range(1, 6):\n",
    "        print(f\"Square of {i}: {i**2}\")\n",
    "\n",
    "def print_cubes():\n",
    "    for i in range(1, 6):\n",
    "        print(f\"Cube of {i}: {i**3}\")\n",
    "\n",
    "thread1 = threading.Thread(target=print_squares)\n",
    "\n",
    "thread2 = threading.Thread(target=print_cubes)\n",
    "\n",
    "thread1.start()\n",
    "thread2.start()\n",
    "thread1.join()\n",
    "thread2.join()\n",
    "\n",
    "print(\"Main thread finished.\")"
   ]
  },
  {
   "cell_type": "markdown",
   "id": "7dc5aa33",
   "metadata": {},
   "source": [
    "#### Q5. State advantages and disadvantages of multithreading."
   ]
  },
  {
   "cell_type": "markdown",
   "id": "971a4912",
   "metadata": {},
   "source": [
    "#### Advantages of Multithreading:\n",
    "\n",
    "1.Concurrency: Multithreading allows concurrent execution of multiple tasks, enabling programs to make progress on different tasks simultaneously. This can lead to improved performance and responsiveness, especially for tasks involving waiting for input/output operations or blocking operations.\n",
    "\n",
    "2.Resource Sharing: \n",
    "Threads within the same process can share resources such as memory, files, and network connections. This can lead to efficient utilization of system resources and better communication between threads.\n",
    "\n",
    "3.Responsiveness: Multithreading allows for responsive user interfaces by keeping the program active and responsive to user input while executing time-consuming tasks in the background.\n",
    "\n",
    "4.Modularization: Threads provide a natural way to divide a program into smaller, manageable units of execution. Each thread can be responsible for a specific task or functionality, making the code more organized and easier to maintain.\n",
    "\n",
    "#### Disadvantages of Multithreading:\n",
    "\n",
    "1.Complexity: \n",
    "Multithreading introduces complexity to program design and debugging. Synchronization and coordination between threads need to be carefully managed to avoid issues like race conditions, deadlocks, and resource conflicts.\n",
    "\n",
    "2.Synchronization Overhead: When multiple threads access shared resources concurrently, proper synchronization mechanisms need to be implemented to maintain data integrity. This synchronization overhead can introduce performance bottlenecks and may require careful design and analysis.\n",
    "\n",
    "4.Debugging Difficulty: Debugging multithreaded programs can be more challenging than single-threaded programs. Issues like race conditions and deadlocks may occur unpredictably, making them harder to identify and reproduce.\n",
    "\n",
    "4.Potential for Thread Interference: In multithreaded programs, threads can interfere with each other's execution, leading to unexpected results or incorrect behavior if not properly synchronized. This requires careful handling of shared data and synchronization mechanisms"
   ]
  },
  {
   "cell_type": "markdown",
   "id": "705a5195",
   "metadata": {},
   "source": [
    "#### Q6. Explain deadlocks and race conditions."
   ]
  },
  {
   "cell_type": "markdown",
   "id": "ef3bf0f9",
   "metadata": {},
   "source": [
    "deadlock occurs when two or more threads are blocked indefinitely, waiting for each other to release resources. Python's threading module provides synchronization primitives like locks, semaphores, and condition variables to manage shared resources and avoid deadlocks.\n",
    "\n",
    "Ex:"
   ]
  },
  {
   "cell_type": "code",
   "execution_count": 2,
   "id": "11ea69b9",
   "metadata": {},
   "outputs": [
    {
     "name": "stdout",
     "output_type": "stream",
     "text": [
      "Thread One acquired lock A\n",
      "Thread One acquired lock B\n",
      "Thread Two acquired lock B\n",
      "Thread Two acquired lock A\n",
      "Main thread finished.\n"
     ]
    }
   ],
   "source": [
    "import threading\n",
    "\n",
    "lock_a = threading.Lock()\n",
    "lock_b = threading.Lock()\n",
    "\n",
    "def thread_one():\n",
    "    with lock_a:\n",
    "        print(\"Thread One acquired lock A\")\n",
    "        with lock_b:\n",
    "            print(\"Thread One acquired lock B\")\n",
    "\n",
    "def thread_two():\n",
    "    with lock_b:\n",
    "        print(\"Thread Two acquired lock B\")\n",
    "        with lock_a:\n",
    "            print(\"Thread Two acquired lock A\")\n",
    "\n",
    "t1 = threading.Thread(target=thread_one)\n",
    "t2 = threading.Thread(target=thread_two)\n",
    "\n",
    "t1.start()\n",
    "t2.start()\n",
    "\n",
    "t1.join()\n",
    "t2.join()\n",
    "\n",
    "print(\"Main thread finished.\")\n"
   ]
  },
  {
   "cell_type": "markdown",
   "id": "e3d0439e",
   "metadata": {},
   "source": [
    "#### Race Condition in Python:\n",
    "\n",
    "A race condition in Python occurs when the behavior of a program depends on the interleaving of execution among multiple threads, and the outcome becomes unpredictable or incorrect. Race conditions typically arise when threads access shared resources without proper synchronization."
   ]
  },
  {
   "cell_type": "code",
   "execution_count": 4,
   "id": "e73a80ec",
   "metadata": {},
   "outputs": [
    {
     "name": "stdout",
     "output_type": "stream",
     "text": [
      "Counter value: 0\n"
     ]
    }
   ],
   "source": [
    "import threading\n",
    "\n",
    "counter = 0\n",
    "\n",
    "def increment():\n",
    "    global counter\n",
    "    for _ in range(100000):\n",
    "        counter += 1\n",
    "\n",
    "def decrement():\n",
    "    global counter\n",
    "    for _ in range(100000):\n",
    "        counter -= 1\n",
    "\n",
    "t1 = threading.Thread(target=increment)\n",
    "t2 = threading.Thread(target=decrement)\n",
    "\n",
    "t1.start()\n",
    "t2.start()\n",
    "\n",
    "t1.join()\n",
    "t2.join()\n",
    "\n",
    "print(\"Counter value:\",counter)\n"
   ]
  },
  {
   "cell_type": "code",
   "execution_count": null,
   "id": "6d26e9ef",
   "metadata": {},
   "outputs": [],
   "source": []
  }
 ],
 "metadata": {
  "kernelspec": {
   "display_name": "Python 3 (ipykernel)",
   "language": "python",
   "name": "python3"
  },
  "language_info": {
   "codemirror_mode": {
    "name": "ipython",
    "version": 3
   },
   "file_extension": ".py",
   "mimetype": "text/x-python",
   "name": "python",
   "nbconvert_exporter": "python",
   "pygments_lexer": "ipython3",
   "version": "3.11.2"
  }
 },
 "nbformat": 4,
 "nbformat_minor": 5
}
